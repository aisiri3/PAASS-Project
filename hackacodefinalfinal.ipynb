{
 "cells": [
  {
   "attachments": {},
   "cell_type": "markdown",
   "metadata": {},
   "source": [
    "# Our device predicts the probability of an individual facing sexual harassment/crime.\n",
    "\n",
    "### Project by PAASS.\n",
    "\n",
    "### Instructions to move character around:\n",
    "1. Move Thumbstick to Direction, note you are controlling blue.\n",
    "2. Choose whether you wanna move or look, do so by clicking the option of either button.\n",
    "3. Watch the probability on the the top right increase or decrease according to your movements."
   ]
  },
  {
   "attachments": {},
   "cell_type": "markdown",
   "metadata": {},
   "source": [
    "Importing all required modules"
   ]
  },
  {
   "cell_type": "code",
   "execution_count": 37,
   "metadata": {},
   "outputs": [],
   "source": [
    "import tkinter as tk\n",
    "import math\n",
    "import serial\n",
    "import time\n",
    "import random\n",
    "from scipy.stats import linregress\n",
    "import numpy as np\n",
    "from tkinter import *"
   ]
  },
  {
   "attachments": {},
   "cell_type": "markdown",
   "metadata": {},
   "source": [
    "Making a character to be used on the grid"
   ]
  },
  {
   "cell_type": "code",
   "execution_count": 38,
   "metadata": {},
   "outputs": [],
   "source": [
    "class Character:\n",
    "    def __init__(self, x, y, direction,color=\"\"):\n",
    "        self.color=color\n",
    "        self.x = x\n",
    "        self.y = y\n",
    "        self.direction = direction\n",
    "    \n",
    "    def look(self, rangey=30):\n",
    "        # Initialize an empty list to store the coordinates within range squares in front of the character\n",
    "        coordinates = []\n",
    "        \n",
    "        # Iterate over the range of distances\n",
    "        for distance in range(1, rangey + 1):\n",
    "            # Add the coordinates distance squares in front of the character to the list\n",
    "            if self.direction == \"up\":\n",
    "                coordinates.append((self.x, self.y - distance))\n",
    "            elif self.direction == \"down\":\n",
    "                coordinates.append((self.x, self.y + distance))\n",
    "            elif self.direction == \"left\":\n",
    "                coordinates.append((self.x - distance, self.y))\n",
    "            elif self.direction == \"right\":\n",
    "                coordinates.append((self.x + distance, self.y))\n",
    "            elif self.direction == \"up-left\":\n",
    "                coordinates.append((self.x - distance, self.y - distance))\n",
    "            elif self.direction == \"up-right\":\n",
    "                coordinates.append((self.x + distance, self.y - distance))\n",
    "            elif self.direction == \"down-left\":\n",
    "                coordinates.append((self.x - distance, self.y + distance))\n",
    "            elif self.direction == \"down-right\":\n",
    "                coordinates.append((self.x + distance, self.y + distance))\n",
    "        \n",
    "        # Return the list of coordinates\n",
    "        return coordinates\n",
    "\n",
    "    \n",
    "    def move(self):\n",
    "        # Update the character's position based on their current direction\n",
    "        if self.direction == \"up\":\n",
    "            self.y -= 1\n",
    "        elif self.direction == \"down\":\n",
    "            self.y += 1\n",
    "        elif self.direction == \"left\":\n",
    "            self.x -= 1\n",
    "        elif self.direction == \"right\":\n",
    "            self.x += 1\n",
    "        elif self.direction == \"up-left\":\n",
    "            self.x -= 1\n",
    "            self.y -= 1\n",
    "        elif self.direction == \"up-right\":\n",
    "            self.x += 1\n",
    "            self.y -= 1\n",
    "        elif self.direction == \"down-left\":\n",
    "            self.x -= 1\n",
    "            self.y += 1\n",
    "        elif self.direction == \"down-right\":\n",
    "            self.x += 1\n",
    "            self.y += 1\n",
    "    \n",
    "    def distance_to(self, other_character):\n",
    "        # Calculate the distance between this character and another character\n",
    "        x_distance = other_character.x - self.x\n",
    "        y_distance = other_character.y - self.y\n",
    "        distance = math.sqrt(x_distance ** 2 + y_distance ** 2)\n",
    "        return distance\n",
    "    \n",
    "    def is_looking_at(self, other_character):\n",
    "        # Check if this character is looking at another character\n",
    "        coordinates_in_front = self.look()\n",
    "        for i in coordinates_in_front:\n",
    "            if i == (other_character.x, other_character.y):\n",
    "                return True\n",
    "        return False"
   ]
  },
  {
   "attachments": {},
   "cell_type": "markdown",
   "metadata": {},
   "source": [
    "### Plotting characters on grid using tkinter"
   ]
  },
  {
   "cell_type": "code",
   "execution_count": 39,
   "metadata": {},
   "outputs": [],
   "source": [
    "def plot_characters(characters, grid_size, ypredfinal=\"\"):\n",
    "    # Initialize the main window\n",
    "    window = tk.Tk()\n",
    "    window.title(\"Character Grid\")\n",
    "\n",
    "    # Create a canvas to draw on\n",
    "    canvas = tk.Canvas(window, width=grid_size*50, height=grid_size*50)\n",
    "    canvas.pack()\n",
    "\n",
    "    # Draw a grid of squares on the canvas\n",
    "    for i in range(grid_size):\n",
    "        for j in range(grid_size):\n",
    "            # Check if the square is in the direction of any character\n",
    "            looking_at = False\n",
    "            for character in characters:\n",
    "                if (i, j) in character.look():\n",
    "                    looking_at = True\n",
    "                    break\n",
    "            # Fill the square with red color if it is in the direction of a character, otherwise fill it with white\n",
    "            if looking_at:\n",
    "                canvas.create_rectangle(i*50, j*50, (i+1)*50, (j+1)*50, fill=\"red\")\n",
    "            else:\n",
    "                canvas.create_rectangle(i*50, j*50, (i+1)*50, (j+1)*50, fill=\"white\")\n",
    "    # Draw a circle for each character on the canvas\n",
    "    for character in characters:\n",
    "        x = character.x\n",
    "        y = character.y\n",
    "        # Check if this character is looking at any other character\n",
    "        looking_at = False\n",
    "        for other_character in characters:\n",
    "            if character is not other_character and character.is_looking_at(other_character):\n",
    "                looking_at = True\n",
    "                break\n",
    "        # Fill the circle with orange color if the character is looking at another character, otherwise fill it with red\n",
    "        if looking_at:\n",
    "            canvas.create_oval(x*50+10, y*50+10, x*50+40, y*50+40, fill=\"orange\")\n",
    "        else:\n",
    "            canvas.create_oval(x*50+10, y*50+10, x*50+40, y*50+40, fill=character.color)\n",
    "\n",
    "    # Display the value of ypredfinal on the top right corner of the grid\n",
    "    canvas.create_text(grid_size*50 - 10, 10, anchor=\"ne\", text=str(ypredfinal))\n",
    "\n",
    "    # Schedule the window to be destroyed after 3 seconds\n",
    "    window.after(3000, window.destroy)\n",
    "\n",
    "    # Run the tkinter event loop\n",
    "    window.mainloop()"
   ]
  },
  {
   "attachments": {},
   "cell_type": "markdown",
   "metadata": {},
   "source": [
    "### Computing the probability of sexual harassment using regression."
   ]
  },
  {
   "cell_type": "code",
   "execution_count": 40,
   "metadata": {},
   "outputs": [],
   "source": [
    "def probabilitytrue(distance):\n",
    "    distancesX=np.array([i for i in range(1,30)])\n",
    "    probabilitiesiftrue=np.array([probability(k,True) for k in distancesX])\n",
    "    slope, intercept, r_value, p_value, std_err = linregress(distancesX, probabilitiesiftrue)\n",
    "    y_pred = slope * distance + intercept\n",
    "    return y_pred\n",
    "\n",
    "def probabilityfalse(distance):\n",
    "    distancesX=np.array([i for i in range(1,30)])\n",
    "    probabilitiesiffalse=np.array([probability(k,False) for k in distancesX])\n",
    "    slope, intercept, r_value, p_value, std_err = linregress(distancesX, probabilitiesiffalse)\n",
    "    y_pred = slope * distance + intercept\n",
    "    return y_pred\n",
    "\n",
    "def whichy(is_look,distance):\n",
    "    if is_look==True:\n",
    "        return probabilitytrue(distance)\n",
    "    if is_look==False:\n",
    "        return probabilityfalse(distance)\n",
    "        \n",
    "def probability(distance,is_look=False):\n",
    "    probability=0\n",
    "    if distance>=1 and distance<=3 and is_look==True:\n",
    "        probability=90\n",
    "    if distance>3 and distance<=5 and is_look==True:\n",
    "        probability=70\n",
    "    if distance>5 and distance<=10 and is_look==True:\n",
    "        probability=50\n",
    "    if distance>10 and is_look==True:\n",
    "        probability= 50-distance\n",
    "    if distance>=1 and distance<=3 and is_look==False:\n",
    "        probability=50\n",
    "    if distance>3 and distance<=5 and is_look==False:\n",
    "        probability=35\n",
    "    if distance>5 and distance<=10 and is_look==False:\n",
    "        probability=15\n",
    "    return probability"
   ]
  },
  {
   "attachments": {},
   "cell_type": "markdown",
   "metadata": {},
   "source": [
    "# GUI to move/look around"
   ]
  },
  {
   "cell_type": "code",
   "execution_count": 41,
   "metadata": {},
   "outputs": [],
   "source": [
    "def get_modeinput():\n",
    "    def get_move_mode():\n",
    "        global mode\n",
    "        mode = \"move\"\n",
    "        root.destroy()  # close the GUI window\n",
    "\n",
    "    def get_look_mode():\n",
    "        global mode\n",
    "        mode = \"look\"\n",
    "        root.destroy()  # close the GUI window\n",
    "\n",
    "    # create the main window\n",
    "    root = Tk()\n",
    "\n",
    "    # create two buttons to trigger the corresponding functions\n",
    "    move_button = Button(root, text=\"Move\", command=get_move_mode)\n",
    "    move_button.pack()\n",
    "    look_button = Button(root, text=\"Look\", command=get_look_mode)\n",
    "    look_button.pack()\n",
    "\n",
    "    # start the main loop\n",
    "    root.mainloop()"
   ]
  },
  {
   "attachments": {},
   "cell_type": "markdown",
   "metadata": {},
   "source": [
    "Testing to see if it works/demo for simulation purposes"
   ]
  },
  {
   "cell_type": "code",
   "execution_count": 42,
   "metadata": {},
   "outputs": [
    {
     "name": "stdout",
     "output_type": "stream",
     "text": [
      "right\n",
      "up\n",
      "up\n",
      "up\n",
      "up\n",
      "right\n"
     ]
    },
    {
     "ename": "KeyboardInterrupt",
     "evalue": "",
     "output_type": "error",
     "traceback": [
      "\u001b[1;31m---------------------------------------------------------------------------\u001b[0m",
      "\u001b[1;31mKeyboardInterrupt\u001b[0m                         Traceback (most recent call last)",
      "\u001b[1;32mc:\\Users\\saran\\Desktop\\hackacode.ipynb Cell 13\u001b[0m in \u001b[0;36m<cell line: 7>\u001b[1;34m()\u001b[0m\n\u001b[0;32m      <a href='vscode-notebook-cell:/c%3A/Users/saran/Desktop/hackacode.ipynb#X14sZmlsZQ%3D%3D?line=3'>4</a>\u001b[0m ser \u001b[39m=\u001b[39m serial\u001b[39m.\u001b[39mSerial(\u001b[39m\"\u001b[39m\u001b[39mCOM6\u001b[39m\u001b[39m\"\u001b[39m, \u001b[39m9600\u001b[39m)\n\u001b[0;32m      <a href='vscode-notebook-cell:/c%3A/Users/saran/Desktop/hackacode.ipynb#X14sZmlsZQ%3D%3D?line=4'>5</a>\u001b[0m \u001b[39mwhile\u001b[39;00m \u001b[39mTrue\u001b[39;00m:\n\u001b[0;32m      <a href='vscode-notebook-cell:/c%3A/Users/saran/Desktop/hackacode.ipynb#X14sZmlsZQ%3D%3D?line=5'>6</a>\u001b[0m     \u001b[39m# Read a line from the serial port\u001b[39;00m\n\u001b[1;32m----> <a href='vscode-notebook-cell:/c%3A/Users/saran/Desktop/hackacode.ipynb#X14sZmlsZQ%3D%3D?line=6'>7</a>\u001b[0m     line \u001b[39m=\u001b[39m ser\u001b[39m.\u001b[39;49mreadline()\u001b[39m.\u001b[39mdecode(\u001b[39m\"\u001b[39m\u001b[39mutf-8\u001b[39m\u001b[39m\"\u001b[39m)\u001b[39m.\u001b[39mstrip()\n\u001b[0;32m      <a href='vscode-notebook-cell:/c%3A/Users/saran/Desktop/hackacode.ipynb#X14sZmlsZQ%3D%3D?line=7'>8</a>\u001b[0m     \u001b[39m# Print the direction received from the Arduino\u001b[39;00m\n\u001b[0;32m      <a href='vscode-notebook-cell:/c%3A/Users/saran/Desktop/hackacode.ipynb#X14sZmlsZQ%3D%3D?line=8'>9</a>\u001b[0m     newline\u001b[39m=\u001b[39m\u001b[39m\"\u001b[39m\u001b[39m\"\u001b[39m\n",
      "File \u001b[1;32mc:\\Users\\saran\\anaconda3\\lib\\site-packages\\serial\\serialwin32.py:288\u001b[0m, in \u001b[0;36mSerial.read\u001b[1;34m(self, size)\u001b[0m\n\u001b[0;32m    286\u001b[0m \u001b[39mif\u001b[39;00m \u001b[39mnot\u001b[39;00m read_ok \u001b[39mand\u001b[39;00m win32\u001b[39m.\u001b[39mGetLastError() \u001b[39mnot\u001b[39;00m \u001b[39min\u001b[39;00m (win32\u001b[39m.\u001b[39mERROR_SUCCESS, win32\u001b[39m.\u001b[39mERROR_IO_PENDING):\n\u001b[0;32m    287\u001b[0m     \u001b[39mraise\u001b[39;00m SerialException(\u001b[39m\"\u001b[39m\u001b[39mReadFile failed (\u001b[39m\u001b[39m{!r}\u001b[39;00m\u001b[39m)\u001b[39m\u001b[39m\"\u001b[39m\u001b[39m.\u001b[39mformat(ctypes\u001b[39m.\u001b[39mWinError()))\n\u001b[1;32m--> 288\u001b[0m result_ok \u001b[39m=\u001b[39m win32\u001b[39m.\u001b[39;49mGetOverlappedResult(\n\u001b[0;32m    289\u001b[0m     \u001b[39mself\u001b[39;49m\u001b[39m.\u001b[39;49m_port_handle,\n\u001b[0;32m    290\u001b[0m     ctypes\u001b[39m.\u001b[39;49mbyref(\u001b[39mself\u001b[39;49m\u001b[39m.\u001b[39;49m_overlapped_read),\n\u001b[0;32m    291\u001b[0m     ctypes\u001b[39m.\u001b[39;49mbyref(rc),\n\u001b[0;32m    292\u001b[0m     \u001b[39mTrue\u001b[39;49;00m)\n\u001b[0;32m    293\u001b[0m \u001b[39mif\u001b[39;00m \u001b[39mnot\u001b[39;00m result_ok:\n\u001b[0;32m    294\u001b[0m     \u001b[39mif\u001b[39;00m win32\u001b[39m.\u001b[39mGetLastError() \u001b[39m!=\u001b[39m win32\u001b[39m.\u001b[39mERROR_OPERATION_ABORTED:\n",
      "\u001b[1;31mKeyboardInterrupt\u001b[0m: "
     ]
    }
   ],
   "source": [
    "girl=Character(random.randint(0,8),random.randint(0,8),\"up\",\"pink\")\n",
    "boy=Character(random.randint(0,8),random.randint(0,8),\"up\",\"blue\")\n",
    "# Open the serial port\n",
    "ser = serial.Serial(\"COM6\", 9600)\n",
    "while True:\n",
    "    # Read a line from the serial port\n",
    "    line = ser.readline().decode(\"utf-8\").strip()\n",
    "    # Print the direction received from the Arduino\n",
    "    newline=\"\"\n",
    "    while line!=\"Center\":\n",
    "        newline=line\n",
    "        print(line)\n",
    "        is_look=boy.is_looking_at(girl)\n",
    "        plot_characters([boy,girl],9)        \n",
    "        get_modeinput()\n",
    "        time.sleep(1)\n",
    "        line = ser.readline().decode(\"utf-8\").strip()\n",
    "    if newline!=\"\" and mode==\"look\":\n",
    "        boy.direction=newline\n",
    "        is_look=boy.is_looking_at(girl)\n",
    "        ypredfinal=str(round(whichy(is_look,boy.distance_to(girl)),2))+\"%\"\n",
    "        plot_characters([boy,girl],9,ypredfinal)\n",
    "    if newline!=\"\" and mode==\"move\":\n",
    "        boy.direction=newline\n",
    "        is_look=boy.is_looking_at(girl)\n",
    "        boy.move()\n",
    "        ypredfinal=str(round(whichy(is_look,boy.distance_to(girl)),2))+\"%\"\n",
    "        plot_characters([boy,girl],9,ypredfinal)"
   ]
  }
 ],
 "metadata": {
  "kernelspec": {
   "display_name": "base",
   "language": "python",
   "name": "python3"
  },
  "language_info": {
   "codemirror_mode": {
    "name": "ipython",
    "version": 3
   },
   "file_extension": ".py",
   "mimetype": "text/x-python",
   "name": "python",
   "nbconvert_exporter": "python",
   "pygments_lexer": "ipython3",
   "version": "3.9.12"
  },
  "orig_nbformat": 4,
  "vscode": {
   "interpreter": {
    "hash": "acc40203db69822aee81a1f5c97f01141a9ea0bbdce4781554130f3bf494f49d"
   }
  }
 },
 "nbformat": 4,
 "nbformat_minor": 2
}
